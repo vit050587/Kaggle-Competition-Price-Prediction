{
  "nbformat": 4,
  "nbformat_minor": 0,
  "metadata": {
    "colab": {
      "name": "Price-Prediction.ipynb",
      "provenance": [],
      "mount_file_id": "1W42w-ZJ20HQtx3iX0t1Z-s4sG7yJ7zOU",
      "authorship_tag": "ABX9TyNtgYoT79ytG5NeRmlekbMj",
      "include_colab_link": true
    },
    "kernelspec": {
      "name": "python3",
      "display_name": "Python 3"
    },
    "language_info": {
      "name": "python"
    }
  },
  "cells": [
    {
      "cell_type": "markdown",
      "metadata": {
        "id": "view-in-github",
        "colab_type": "text"
      },
      "source": [
        "<a href=\"https://colab.research.google.com/github/vit050587/Kaggle-Competition-Price-Prediction/blob/master/Price_Prediction.ipynb\" target=\"_parent\"><img src=\"https://colab.research.google.com/assets/colab-badge.svg\" alt=\"Open In Colab\"/></a>"
      ]
    },
    {
      "cell_type": "markdown",
      "source": [
        "### **[Real Estate Price Prediction](https://www.kaggle.com/c/real-estate-price-prediction-moscow/)**"
      ],
      "metadata": {
        "id": "-35kXeIkIq6F"
      }
    },
    {
      "cell_type": "markdown",
      "source": [
        ""
      ],
      "metadata": {
        "id": "k1qJS5GoI8_s"
      }
    },
    {
      "cell_type": "markdown",
      "source": [
        "# File descriptions"
      ],
      "metadata": {
        "id": "lRzmy3m6IQsu"
      }
    },
    {
      "cell_type": "markdown",
      "source": [
        "* train.csv - the training set\n",
        "* test.csv - the test set\n",
        "* sampleSubmission.csv - a sample submission file in the correct format"
      ],
      "metadata": {
        "id": "TVVqO4uOIWuI"
      }
    },
    {
      "cell_type": "markdown",
      "source": [
        "# Data fields"
      ],
      "metadata": {
        "id": "kImmI8f8Iec-"
      }
    },
    {
      "cell_type": "markdown",
      "source": [
        "* Id - идентификационный номер квартиры\n",
        "* DistrictId - идентификационный номер района\n",
        "* Rooms - количество комнат\n",
        "* Square - площадь\n",
        "* LifeSquare - жилая площадь\n",
        "* KitchenSquare - площадь кухни\n",
        "* Floor - этаж\n",
        "* HouseFloor - количество этажей в доме\n",
        "* HouseYear - год постройки дома\n",
        "* Ecology_1, Ecology_2, Ecology_3 - экологические показатели местности\n",
        "* Social_1, Social_2, Social_3 - социальные показатели местности\n",
        "* Healthcare_1, Helthcare_2 - показатели местности, связанные с охраной здоровья\n",
        "* Shops_1, Shops_2 - показатели, связанные с наличием магазинов, торговых центров\n",
        "* Price - цена квартиры"
      ],
      "metadata": {
        "id": "MpA-NRLhH3YC"
      }
    },
    {
      "cell_type": "markdown",
      "source": [
        ""
      ],
      "metadata": {
        "id": "ZZj18f5KIGzI"
      }
    }
  ]
}